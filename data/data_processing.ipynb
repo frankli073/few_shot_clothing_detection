{
 "cells": [
  {
   "cell_type": "markdown",
   "id": "c15401e6-bf8e-4de0-b63d-52bda76c1be0",
   "metadata": {},
   "source": [
    "- [1. Importing Packages](#1)\n",
    "- [2. Building Functions](#2)\n",
    "- [3. Cleaning Data](#3)\n",
    "    - [3.1 Select Images With Count > 100](#3_1)\n",
    "    - [3.2 Move Images to Correct Locations](#3_2)\n",
    "        - [3.2.1 For All](#3_2_1)\n",
    "        - [3.2.2 For Top 100](#3_2_2)\n",
    "        - [3.2.3 For Top 10](#3_2_3)"
   ]
  },
  {
   "cell_type": "markdown",
   "id": "bb0b7cc0-fbb0-4e9a-96b0-2b9ac003331d",
   "metadata": {},
   "source": [
    "## 1. Importing Packages <a id='1'></a>"
   ]
  },
  {
   "cell_type": "code",
   "execution_count": 113,
   "id": "a206b87b-07b8-4530-b61e-e02cfa2b5071",
   "metadata": {},
   "outputs": [],
   "source": [
    "import numpy as np\n",
    "import pandas as pd\n",
    "import matplotlib.pyplot as plt\n",
    "import random\n",
    "import os\n",
    "import shutil\n",
    "\n",
    "from sklearn.model_selection import train_test_split, cross_validate, GridSearchCV, learning_curve, TimeSeriesSplit\n",
    "\n",
    "# For data augmentation\n",
    "from PIL import Image\n",
    "import tensorflow as tf\n",
    "from tensorflow.keras.preprocessing.image import ImageDataGenerator"
   ]
  },
  {
   "cell_type": "markdown",
   "id": "d1690406-e4c4-45d5-aed7-56e390e570e9",
   "metadata": {},
   "source": [
    "## 2. Building Functions <a id='2'></a>"
   ]
  },
  {
   "cell_type": "code",
   "execution_count": 107,
   "id": "b22ad34c-c2f9-4643-8329-2d91e9c45b78",
   "metadata": {},
   "outputs": [],
   "source": [
    "def load_images(folder_path, label):\n",
    "    images = []\n",
    "    labels = []\n",
    "    for filename in os.listdir(folder_path):\n",
    "        if filename.endswith(\".jpg\"):\n",
    "            image = Image.open(os.path.join(folder_path, filename)).convert('RGB').resize((224, 224))\n",
    "            images.append(np.array(image))\n",
    "            labels.append(label)\n",
    "    return images, labels"
   ]
  },
  {
   "cell_type": "markdown",
   "id": "e783c9c9-a150-449c-bdb3-b0f5ccc8ecfc",
   "metadata": {},
   "source": [
    "## 3. Cleaning Data <a id='3'></a>"
   ]
  },
  {
   "cell_type": "markdown",
   "id": "694c2e4d-e076-49f2-9e1b-2e6e52b1c874",
   "metadata": {},
   "source": [
    "### 3.1 Select Images With Count > 100 <a id='3_1'></a>"
   ]
  },
  {
   "cell_type": "markdown",
   "id": "e2158403-cd56-4891-aa8c-937800ecccb7",
   "metadata": {},
   "source": [
    "- We label data and leave them in different folders\n",
    "- Then we use example code to augment data"
   ]
  },
  {
   "cell_type": "code",
   "execution_count": 50,
   "id": "b08ff167-7c42-463d-9094-3417f5746ddf",
   "metadata": {},
   "outputs": [
    {
     "data": {
      "text/plain": [
       "array(['Not sure', 'T-Shirt', 'Shoes', 'Shorts', 'Shirt', 'Pants',\n",
       "       'Skirt', 'Other', 'Top', 'Outwear', 'Dress', 'Body', 'Longsleeve',\n",
       "       'Undershirt', 'Hat', 'Polo', 'Blouse', 'Hoodie', 'Skip', 'Blazer'],\n",
       "      dtype=object)"
      ]
     },
     "execution_count": 50,
     "metadata": {},
     "output_type": "execute_result"
    }
   ],
   "source": [
    "label_path = './images.csv'\n",
    "image_label = pd.read_csv(label_path)\n",
    "image_label['label'].unique()"
   ]
  },
  {
   "cell_type": "code",
   "execution_count": 51,
   "id": "61276849-6978-42e2-8c03-ec7dc9be3a4d",
   "metadata": {},
   "outputs": [],
   "source": [
    "# We want to keep everything that's not \"Not sure\" and has a count more than 100\n",
    "labels_count = image_label.groupby('label')['label'].count().sort_values(ascending=False)\n",
    "labels_count = pd.DataFrame(labels_count).rename({'label':'count'}, axis=1).reset_index()\n",
    "to_keep = [i for i in labels_count[labels_count['count'] >= 100].label.to_list() if i != 'Not sure']"
   ]
  },
  {
   "cell_type": "code",
   "execution_count": 52,
   "id": "98109859-a3bb-4254-b312-ae02db5ee73d",
   "metadata": {},
   "outputs": [
    {
     "data": {
      "text/plain": [
       "array(['T-Shirt', 'Shoes', 'Shorts', 'Shirt', 'Pants', 'Skirt', 'Outwear',\n",
       "       'Dress', 'Longsleeve', 'Undershirt', 'Hat', 'Polo', 'Hoodie',\n",
       "       'Blazer'], dtype=object)"
      ]
     },
     "execution_count": 52,
     "metadata": {},
     "output_type": "execute_result"
    }
   ],
   "source": [
    "image_label_to_keep = image_label[image_label['label'].isin(to_keep)]\n",
    "image_label_to_keep.label.unique()"
   ]
  },
  {
   "cell_type": "code",
   "execution_count": 53,
   "id": "aeb0677b-7249-492f-ae6c-7bff84ce219f",
   "metadata": {},
   "outputs": [
    {
     "name": "stderr",
     "output_type": "stream",
     "text": [
      "/var/folders/4m/qh070ww90rqgmcw604kkdt8r0000gn/T/ipykernel_52217/3982656971.py:2: SettingWithCopyWarning: \n",
      "A value is trying to be set on a copy of a slice from a DataFrame.\n",
      "Try using .loc[row_indexer,col_indexer] = value instead\n",
      "\n",
      "See the caveats in the documentation: https://pandas.pydata.org/pandas-docs/stable/user_guide/indexing.html#returning-a-view-versus-a-copy\n",
      "  image_label_to_keep['label'] = image_label_to_keep['label'].str.lower()\n"
     ]
    }
   ],
   "source": [
    "# Lower the label\n",
    "image_label_to_keep['label'] = image_label_to_keep['label'].str.lower()"
   ]
  },
  {
   "cell_type": "markdown",
   "id": "f8f0a709-c728-40aa-863b-1520380dbe39",
   "metadata": {},
   "source": [
    "### 3.2 Move Images to Correct Locations <a id='3_2'></a>"
   ]
  },
  {
   "cell_type": "code",
   "execution_count": 54,
   "id": "02215351-2632-4082-96a9-e520a418efc3",
   "metadata": {},
   "outputs": [
    {
     "data": {
      "text/plain": [
       "(4961, 4)"
      ]
     },
     "execution_count": 54,
     "metadata": {},
     "output_type": "execute_result"
    }
   ],
   "source": [
    "image_label_to_keep.shape"
   ]
  },
  {
   "cell_type": "code",
   "execution_count": 61,
   "id": "d01e2806-c8c5-4385-ad8b-5bb48b4f5d65",
   "metadata": {},
   "outputs": [
    {
     "data": {
      "text/plain": [
       "'/Users/liqingyang/Documents/GitHub/few_shot_clothing_detection/data'"
      ]
     },
     "execution_count": 61,
     "metadata": {},
     "output_type": "execute_result"
    }
   ],
   "source": [
    "pwd"
   ]
  },
  {
   "cell_type": "code",
   "execution_count": 69,
   "id": "1ccadd95-2780-454d-af09-2117e0210cbd",
   "metadata": {},
   "outputs": [
    {
     "name": "stdout",
     "output_type": "stream",
     "text": [
      "Folder 't-shirt' already exists.\n",
      "Folder 'shoes' already exists.\n",
      "Folder 'shorts' already exists.\n",
      "Folder 'shirt' already exists.\n",
      "Folder 'pants' already exists.\n",
      "Folder 'skirt' already exists.\n",
      "Folder 'outwear' already exists.\n",
      "Folder 'dress' already exists.\n",
      "Folder 'longsleeve' already exists.\n",
      "Folder 'undershirt' already exists.\n",
      "Folder 'hat' already exists.\n",
      "Folder 'polo' already exists.\n",
      "Folder 'hoodie' already exists.\n",
      "Folder 'blazer' already exists.\n"
     ]
    }
   ],
   "source": [
    "### Make the folder\n",
    "folder_names = list(image_label_to_keep['label'].unique())\n",
    "base_path = './clean_data/top_100/'\n",
    "\n",
    "\n",
    "for folder_name in folder_names:\n",
    "    folder_path = os.path.join(base_path, folder_name)\n",
    "\n",
    "    if not os.path.exists(folder_path):\n",
    "        os.makedirs(folder_path)\n",
    "        print(f\"Folder '{folder_name}' created.\")\n",
    "    else:\n",
    "        print(f\"Folder '{folder_name}' already exists.\")"
   ]
  },
  {
   "cell_type": "markdown",
   "id": "4dc67bcf-24ae-443b-9240-6d655379b1e2",
   "metadata": {},
   "source": [
    "#### 3.2.1 For All <a id='3_2_1'></a>"
   ]
  },
  {
   "cell_type": "code",
   "execution_count": 94,
   "id": "304ab34a-eef6-4d54-9d48-d67cd832e0a2",
   "metadata": {},
   "outputs": [],
   "source": [
    "image_folder = '/Users/liqingyang/Documents/GitHub/few_shot_clothing_detection/data/raw_data/'  # Path to the raw images\n",
    "output_folder = './clean_data/all_data/'  # Path to new location"
   ]
  },
  {
   "cell_type": "code",
   "execution_count": 95,
   "id": "2a913189-25ed-43a5-b7a0-e6671ad94447",
   "metadata": {},
   "outputs": [
    {
     "name": "stdout",
     "output_type": "stream",
     "text": [
      "Images moved successfully.\n"
     ]
    }
   ],
   "source": [
    "for index, row in image_label_to_keep.iterrows():\n",
    "    image_name = row['image']\n",
    "    image_name += \".jpg\"\n",
    "    label = row['label']\n",
    "    \n",
    "    # Define the source and destination paths\n",
    "    src = os.path.join(image_folder, image_name)\n",
    "    dst_folder = os.path.join(output_folder, label)\n",
    "    \n",
    "    # Move the image to the destination folder\n",
    "    if os.path.exists(src):  # Check if the source image exists\n",
    "        shutil.copy(src, dst_folder)\n",
    "    else:\n",
    "        print(f\"Image {image_name} not found in {image_folder}\")\n",
    "\n",
    "print(\"Images moved successfully.\")"
   ]
  },
  {
   "cell_type": "markdown",
   "id": "87c060e9-afab-4854-88d9-54e5bfabbd6b",
   "metadata": {},
   "source": [
    "#### 3.2.2 For Top 100 <a id='3_2_2'></a>"
   ]
  },
  {
   "cell_type": "code",
   "execution_count": 97,
   "id": "7aa061fa-bd65-4b7c-a19e-8dd03fbcc7e5",
   "metadata": {},
   "outputs": [],
   "source": [
    "image_folder = '/Users/liqingyang/Documents/GitHub/few_shot_clothing_detection/data/raw_data/'  # Path to the raw images\n",
    "output_folder = './clean_data/top_100/'  # Path to new location\n",
    "image_label_top_100 = image_label_to_keep.groupby('label').head(100)"
   ]
  },
  {
   "cell_type": "code",
   "execution_count": 98,
   "id": "c9fbad44-575c-4cc4-8924-51545a21509b",
   "metadata": {},
   "outputs": [
    {
     "data": {
      "text/plain": [
       "(1400, 4)"
      ]
     },
     "execution_count": 98,
     "metadata": {},
     "output_type": "execute_result"
    }
   ],
   "source": [
    "image_label_top_100.shape"
   ]
  },
  {
   "cell_type": "code",
   "execution_count": 99,
   "id": "302b8636-5b9d-4dca-a27b-dad02fe15f40",
   "metadata": {},
   "outputs": [
    {
     "name": "stdout",
     "output_type": "stream",
     "text": [
      "Images moved successfully.\n"
     ]
    }
   ],
   "source": [
    "for index, row in image_label_top_100.iterrows():\n",
    "    image_name = row['image']\n",
    "    image_name += \".jpg\"\n",
    "    label = row['label']\n",
    "    \n",
    "    # Define the source and destination paths\n",
    "    src = os.path.join(image_folder, image_name)\n",
    "    dst_folder = os.path.join(output_folder, label)\n",
    "    \n",
    "    # Move the image to the destination folder\n",
    "    if os.path.exists(src):  # Check if the source image exists\n",
    "        shutil.copy(src, dst_folder)\n",
    "    else:\n",
    "        print(f\"Image {image_name} not found in {image_folder}\")\n",
    "\n",
    "print(\"Images moved successfully.\")"
   ]
  },
  {
   "cell_type": "markdown",
   "id": "4c1f0b29-ee8d-408f-8a15-a5fbb8719aaf",
   "metadata": {},
   "source": [
    "#### 3.2.3 For Top 10 <a id='3_2_3'></a>"
   ]
  },
  {
   "cell_type": "code",
   "execution_count": 102,
   "id": "3d314fef-d140-4805-8a69-1a44d6049cb0",
   "metadata": {},
   "outputs": [
    {
     "data": {
      "text/plain": [
       "(140, 4)"
      ]
     },
     "execution_count": 102,
     "metadata": {},
     "output_type": "execute_result"
    }
   ],
   "source": [
    "image_folder = '/Users/liqingyang/Documents/GitHub/few_shot_clothing_detection/data/raw_data/'  # Path to the raw images\n",
    "output_folder = './clean_data/top_10/'  # Path to new location\n",
    "image_label_top_10 = image_label_to_keep.groupby('label').head(10)\n",
    "image_label_top_10.shape"
   ]
  },
  {
   "cell_type": "code",
   "execution_count": 103,
   "id": "5b0a9ad8-8cb0-4b26-aa38-01b4cdb351c0",
   "metadata": {},
   "outputs": [
    {
     "name": "stdout",
     "output_type": "stream",
     "text": [
      "Images moved successfully.\n"
     ]
    }
   ],
   "source": [
    "for index, row in image_label_top_10.iterrows():\n",
    "    image_name = row['image']\n",
    "    image_name += \".jpg\"\n",
    "    label = row['label']\n",
    "    \n",
    "    # Define the source and destination paths\n",
    "    src = os.path.join(image_folder, image_name)\n",
    "    dst_folder = os.path.join(output_folder, label)\n",
    "    \n",
    "    # Move the image to the destination folder\n",
    "    if os.path.exists(src):  # Check if the source image exists\n",
    "        shutil.copy(src, dst_folder)\n",
    "    else:\n",
    "        print(f\"Image {image_name} not found in {image_folder}\")\n",
    "\n",
    "print(\"Images moved successfully.\")"
   ]
  },
  {
   "cell_type": "markdown",
   "id": "80c09e98-3026-4970-8fd3-3cbba07af67e",
   "metadata": {},
   "source": [
    "### 3.3 Data Augmentation <a id='3_3'></a>"
   ]
  },
  {
   "cell_type": "code",
   "execution_count": 114,
   "id": "cc89dfe4-02ea-4060-938b-ec9070861bca",
   "metadata": {},
   "outputs": [],
   "source": [
    "folder_0 = './clean_data/top_10/blazer/'\n",
    "folder_1 = './clean_data/top_10/t-shirt/'\n",
    "\n",
    "# Mark non_head_and_shoulder as 0 and head_and_shoulder as 1\n",
    "images_0, labels_0 = load_images(folder_0, 0)\n",
    "images_1, labels_1 = load_images(folder_1, 1)\n",
    "\n",
    "images = np.array(images_0 + images_1)\n",
    "labels = np.array(labels_0 + labels_1)\n",
    "\n",
    "# Split data into train and test sets, we also stratify them \n",
    "X_train, X_test, y_train, y_test = train_test_split(images, labels, test_size=0.2, random_state=42, stratify=labels)\n",
    "\n",
    "# Data augmentation\n",
    "datagen = ImageDataGenerator(\n",
    "    rotation_range=20,\n",
    "    width_shift_range=0.1,\n",
    "    height_shift_range=0.1,\n",
    "    horizontal_flip=True,\n",
    "    rescale=1./255\n",
    ")\n",
    "\n",
    "datagen.fit(X_train)"
   ]
  },
  {
   "cell_type": "code",
   "execution_count": 115,
   "id": "673b4e8b-54d2-480e-a64d-8325e617f6f8",
   "metadata": {
    "scrolled": true
   },
   "outputs": [
    {
     "data": {
      "text/plain": [
       "array([[[[225, 216, 209],\n",
       "         [231, 222, 215],\n",
       "         [234, 225, 218],\n",
       "         ...,\n",
       "         [ 54,  54,  52],\n",
       "         [ 52,  52,  50],\n",
       "         [ 53,  53,  51]],\n",
       "\n",
       "        [[229, 220, 213],\n",
       "         [239, 230, 223],\n",
       "         [233, 224, 217],\n",
       "         ...,\n",
       "         [ 55,  55,  51],\n",
       "         [ 53,  52,  49],\n",
       "         [ 53,  52,  48]],\n",
       "\n",
       "        [[228, 219, 212],\n",
       "         [237, 228, 221],\n",
       "         [232, 223, 216],\n",
       "         ...,\n",
       "         [ 55,  53,  48],\n",
       "         [ 54,  52,  47],\n",
       "         [ 56,  54,  49]],\n",
       "\n",
       "        ...,\n",
       "\n",
       "        [[221, 212, 198],\n",
       "         [228, 219, 205],\n",
       "         [226, 217, 203],\n",
       "         ...,\n",
       "         [209, 198, 182],\n",
       "         [211, 202, 185],\n",
       "         [214, 205, 188]],\n",
       "\n",
       "        [[224, 214, 202],\n",
       "         [228, 218, 206],\n",
       "         [233, 223, 211],\n",
       "         ...,\n",
       "         [217, 206, 189],\n",
       "         [218, 209, 192],\n",
       "         [218, 209, 192]],\n",
       "\n",
       "        [[228, 218, 206],\n",
       "         [234, 224, 212],\n",
       "         [240, 230, 218],\n",
       "         ...,\n",
       "         [212, 202, 185],\n",
       "         [217, 209, 192],\n",
       "         [220, 211, 194]]],\n",
       "\n",
       "\n",
       "       [[[204, 213, 212],\n",
       "         [207, 216, 215],\n",
       "         [209, 218, 217],\n",
       "         ...,\n",
       "         [158, 167, 164],\n",
       "         [158, 167, 164],\n",
       "         [158, 167, 164]],\n",
       "\n",
       "        [[204, 213, 212],\n",
       "         [206, 215, 214],\n",
       "         [209, 218, 217],\n",
       "         ...,\n",
       "         [158, 167, 164],\n",
       "         [158, 167, 164],\n",
       "         [158, 167, 164]],\n",
       "\n",
       "        [[205, 214, 213],\n",
       "         [206, 215, 214],\n",
       "         [209, 218, 217],\n",
       "         ...,\n",
       "         [158, 167, 164],\n",
       "         [158, 167, 164],\n",
       "         [158, 167, 164]],\n",
       "\n",
       "        ...,\n",
       "\n",
       "        [[145, 145, 139],\n",
       "         [171, 172, 167],\n",
       "         [169, 172, 169],\n",
       "         ...,\n",
       "         [142, 151, 146],\n",
       "         [142, 151, 146],\n",
       "         [142, 151, 146]],\n",
       "\n",
       "        [[138, 139, 134],\n",
       "         [153, 155, 151],\n",
       "         [169, 174, 173],\n",
       "         ...,\n",
       "         [142, 151, 146],\n",
       "         [142, 151, 146],\n",
       "         [142, 151, 146]],\n",
       "\n",
       "        [[150, 152, 147],\n",
       "         [158, 161, 158],\n",
       "         [176, 181, 180],\n",
       "         ...,\n",
       "         [142, 151, 146],\n",
       "         [142, 151, 146],\n",
       "         [142, 151, 146]]],\n",
       "\n",
       "\n",
       "       [[[181, 150, 148],\n",
       "         [176, 145, 143],\n",
       "         [176, 145, 143],\n",
       "         ...,\n",
       "         [191, 163, 161],\n",
       "         [167, 155, 152],\n",
       "         [100,  99,  95]],\n",
       "\n",
       "        [[181, 150, 148],\n",
       "         [178, 147, 145],\n",
       "         [176, 145, 143],\n",
       "         ...,\n",
       "         [191, 163, 161],\n",
       "         [172, 158, 155],\n",
       "         [110, 107, 104]],\n",
       "\n",
       "        [[182, 151, 149],\n",
       "         [181, 150, 148],\n",
       "         [177, 146, 144],\n",
       "         ...,\n",
       "         [191, 162, 160],\n",
       "         [177, 162, 160],\n",
       "         [123, 116, 114]],\n",
       "\n",
       "        ...,\n",
       "\n",
       "        [[198, 171, 162],\n",
       "         [202, 175, 166],\n",
       "         [204, 177, 168],\n",
       "         ...,\n",
       "         [207, 187, 186],\n",
       "         [204, 184, 183],\n",
       "         [201, 181, 180]],\n",
       "\n",
       "        [[195, 168, 159],\n",
       "         [198, 171, 162],\n",
       "         [201, 174, 165],\n",
       "         ...,\n",
       "         [208, 188, 185],\n",
       "         [204, 185, 181],\n",
       "         [201, 182, 178]],\n",
       "\n",
       "        [[195, 168, 159],\n",
       "         [197, 170, 161],\n",
       "         [199, 172, 163],\n",
       "         ...,\n",
       "         [208, 189, 185],\n",
       "         [205, 186, 182],\n",
       "         [202, 183, 179]]],\n",
       "\n",
       "\n",
       "       ...,\n",
       "\n",
       "\n",
       "       [[[ 67,  30,   4],\n",
       "         [ 74,  34,   8],\n",
       "         [ 81,  38,  13],\n",
       "         ...,\n",
       "         [108,  52,  29],\n",
       "         [105,  48,  28],\n",
       "         [104,  47,  28]],\n",
       "\n",
       "        [[ 68,  31,   5],\n",
       "         [ 73,  33,   8],\n",
       "         [ 80,  37,  12],\n",
       "         ...,\n",
       "         [106,  50,  27],\n",
       "         [109,  53,  30],\n",
       "         [110,  53,  32]],\n",
       "\n",
       "        [[ 68,  31,   5],\n",
       "         [ 72,  32,   6],\n",
       "         [ 79,  35,  10],\n",
       "         ...,\n",
       "         [105,  49,  24],\n",
       "         [111,  55,  31],\n",
       "         [111,  55,  32]],\n",
       "\n",
       "        ...,\n",
       "\n",
       "        [[ 49,  43,  39],\n",
       "         [ 25,  18,  14],\n",
       "         [ 15,   8,   4],\n",
       "         ...,\n",
       "         [ 24,  13,  15],\n",
       "         [ 43,  32,  37],\n",
       "         [101,  90,  95]],\n",
       "\n",
       "        [[ 42,  32,  39],\n",
       "         [ 18,   7,  11],\n",
       "         [ 17,   7,   7],\n",
       "         ...,\n",
       "         [ 22,  11,  14],\n",
       "         [ 64,  54,  62],\n",
       "         [108,  98, 109]],\n",
       "\n",
       "        [[ 22,  11,  18],\n",
       "         [ 20,  10,  14],\n",
       "         [ 17,   7,   7],\n",
       "         ...,\n",
       "         [ 30,  19,  22],\n",
       "         [ 83,  72,  80],\n",
       "         [113, 103, 114]]],\n",
       "\n",
       "\n",
       "       [[[199, 139,  78],\n",
       "         [202, 142,  79],\n",
       "         [204, 145,  77],\n",
       "         ...,\n",
       "         [219, 172, 120],\n",
       "         [218, 173, 124],\n",
       "         [216, 172, 123]],\n",
       "\n",
       "        [[203, 143,  82],\n",
       "         [201, 141,  78],\n",
       "         [198, 140,  71],\n",
       "         ...,\n",
       "         [222, 175, 123],\n",
       "         [219, 174, 125],\n",
       "         [217, 173, 124]],\n",
       "\n",
       "        [[199, 139,  78],\n",
       "         [199, 139,  75],\n",
       "         [198, 139,  71],\n",
       "         ...,\n",
       "         [225, 178, 126],\n",
       "         [223, 179, 129],\n",
       "         [222, 179, 128]],\n",
       "\n",
       "        ...,\n",
       "\n",
       "        [[174,  99,  34],\n",
       "         [176, 101,  36],\n",
       "         [175, 100,  35],\n",
       "         ...,\n",
       "         [212, 161, 103],\n",
       "         [214, 162, 103],\n",
       "         [212, 160, 100]],\n",
       "\n",
       "        [[173,  98,  33],\n",
       "         [177, 102,  37],\n",
       "         [175, 100,  35],\n",
       "         ...,\n",
       "         [208, 157,  99],\n",
       "         [211, 159,  99],\n",
       "         [208, 156,  95]],\n",
       "\n",
       "        [[180, 105,  40],\n",
       "         [186, 111,  46],\n",
       "         [187, 112,  47],\n",
       "         ...,\n",
       "         [209, 158, 100],\n",
       "         [207, 155,  95],\n",
       "         [205, 153,  93]]],\n",
       "\n",
       "\n",
       "       [[[165, 101,  86],\n",
       "         [100,  76,  52],\n",
       "         [120, 131, 101],\n",
       "         ...,\n",
       "         [232, 189, 159],\n",
       "         [246, 176, 160],\n",
       "         [227, 170, 151]],\n",
       "\n",
       "        [[173,  89,  92],\n",
       "         [154, 109, 102],\n",
       "         [153, 141, 125],\n",
       "         ...,\n",
       "         [242, 197, 165],\n",
       "         [243, 176, 155],\n",
       "         [246, 188, 165]],\n",
       "\n",
       "        [[165, 110, 116],\n",
       "         [128, 106, 101],\n",
       "         [105, 108,  94],\n",
       "         ...,\n",
       "         [238, 185, 152],\n",
       "         [241, 179, 152],\n",
       "         [247, 189, 161]],\n",
       "\n",
       "        ...,\n",
       "\n",
       "        [[145,  83,  68],\n",
       "         [176, 129, 109],\n",
       "         [188, 164, 138],\n",
       "         ...,\n",
       "         [229, 178, 155],\n",
       "         [222, 168, 145],\n",
       "         [192, 138, 114]],\n",
       "\n",
       "        [[169, 148, 128],\n",
       "         [183, 177, 152],\n",
       "         [168, 180, 151],\n",
       "         ...,\n",
       "         [172, 113,  91],\n",
       "         [177, 122,  99],\n",
       "         [161, 109,  84]],\n",
       "\n",
       "        [[193, 178, 163],\n",
       "         [172, 172, 152],\n",
       "         [153, 168, 143],\n",
       "         ...,\n",
       "         [165, 132,  99],\n",
       "         [165, 146, 109],\n",
       "         [159, 149, 111]]]], dtype=uint8)"
      ]
     },
     "execution_count": 115,
     "metadata": {},
     "output_type": "execute_result"
    }
   ],
   "source": [
    "X_train"
   ]
  },
  {
   "cell_type": "code",
   "execution_count": null,
   "id": "80433c11-ff41-4159-9285-2e48c47a4b2d",
   "metadata": {},
   "outputs": [],
   "source": []
  }
 ],
 "metadata": {
  "kernelspec": {
   "display_name": "Python 3 (ipykernel)",
   "language": "python",
   "name": "python3"
  },
  "language_info": {
   "codemirror_mode": {
    "name": "ipython",
    "version": 3
   },
   "file_extension": ".py",
   "mimetype": "text/x-python",
   "name": "python",
   "nbconvert_exporter": "python",
   "pygments_lexer": "ipython3",
   "version": "3.11.4"
  }
 },
 "nbformat": 4,
 "nbformat_minor": 5
}
